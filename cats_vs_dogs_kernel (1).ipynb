{
 "cells": [
  {
   "cell_type": "markdown",
   "metadata": {
    "id": "KXRrL3-A7oMA"
   },
   "source": [
    "# cats VS dogs Classification With Multiple Techniques"
   ]
  },
  {
   "cell_type": "code",
   "execution_count": 4,
   "metadata": {
    "id": "bkMEBLJksDNX"
   },
   "outputs": [],
   "source": [
    "import pandas as pd\n",
    "import numpy as np \n",
    "import matplotlib.pyplot as plt\n",
    "import seaborn as sns\n",
    "\n",
    "from sklearn.model_selection import train_test_split\n",
    "from sklearn.metrics import confusion_matrix\n",
    "\n",
    "import keras \n",
    "from keras import models\n",
    "from keras import layers\n",
    "from keras import optimizers\n",
    "import tensorflow as tf\n",
    "from keras.utils.np_utils import to_categorical # convert to one-hot-encoding\n",
    "from keras.preprocessing.image import ImageDataGenerator\n",
    "from keras.callbacks import ReduceLROnPlateau\n",
    "from keras.callbacks import EarlyStopping"
   ]
  },
  {
   "cell_type": "markdown",
   "metadata": {
    "id": "2oU3lJs8EOga"
   },
   "source": [
    "## classification cats VS dogs using samples data and Regularization\n",
    "just 1000 images 500 for cats and 500 for dogs and 400 for validation 200 for cats and 200 for dogs"
   ]
  },
  {
   "cell_type": "code",
   "execution_count": null,
   "metadata": {
    "colab": {
     "base_uri": "https://localhost:8080/"
    },
    "id": "GdGnR0RzsHc3",
    "outputId": "9e18cb0c-5dfc-4274-9302-9ffd07c6c495"
   },
   "outputs": [
    {
     "name": "stdout",
     "output_type": "stream",
     "text": [
      "Model: \"sequential\"\n",
      "_________________________________________________________________\n",
      " Layer (type)                Output Shape              Param #   \n",
      "=================================================================\n",
      " conv2d (Conv2D)             (None, 148, 148, 32)      896       \n",
      "                                                                 \n",
      " max_pooling2d (MaxPooling2D  (None, 74, 74, 32)       0         \n",
      " )                                                               \n",
      "                                                                 \n",
      " conv2d_1 (Conv2D)           (None, 72, 72, 64)        18496     \n",
      "                                                                 \n",
      " max_pooling2d_1 (MaxPooling  (None, 36, 36, 64)       0         \n",
      " 2D)                                                             \n",
      "                                                                 \n",
      " conv2d_2 (Conv2D)           (None, 34, 34, 128)       73856     \n",
      "                                                                 \n",
      " max_pooling2d_2 (MaxPooling  (None, 17, 17, 128)      0         \n",
      " 2D)                                                             \n",
      "                                                                 \n",
      " conv2d_3 (Conv2D)           (None, 15, 15, 128)       147584    \n",
      "                                                                 \n",
      " max_pooling2d_3 (MaxPooling  (None, 7, 7, 128)        0         \n",
      " 2D)                                                             \n",
      "                                                                 \n",
      " flatten (Flatten)           (None, 6272)              0         \n",
      "                                                                 \n",
      " dropout (Dropout)           (None, 6272)              0         \n",
      "                                                                 \n",
      " dense (Dense)               (None, 64)                401472    \n",
      "                                                                 \n",
      " dense_1 (Dense)             (None, 1)                 65        \n",
      "                                                                 \n",
      "=================================================================\n",
      "Total params: 642,369\n",
      "Trainable params: 642,369\n",
      "Non-trainable params: 0\n",
      "_________________________________________________________________\n",
      "None\n"
     ]
    }
   ],
   "source": [
    "model = models.Sequential()\n",
    "model.add(layers.Conv2D(32, (3, 3), activation='relu',\n",
    "                        input_shape=(150, 150, 3)))\n",
    "model.add(layers.MaxPooling2D((2, 2)))\n",
    "\n",
    "model.add(layers.Conv2D(64, (3, 3), activation='relu'))\n",
    "model.add(layers.MaxPooling2D((2, 2)))\n",
    "\n",
    "model.add(layers.Conv2D(128, (3, 3), activation='relu'))\n",
    "model.add(layers.MaxPooling2D((2, 2)))\n",
    "\n",
    "model.add(layers.Conv2D(128, (3, 3), activation='relu'))\n",
    "model.add(layers.MaxPooling2D((2, 2)))\n",
    "\n",
    "\n",
    "model.add(layers.Flatten())\n",
    "model.add(layers.Dropout(0.5))\n",
    "model.add(layers.Dense(64, kernel_regularizer='L2', activation='relu'))\n",
    "model.add(layers.Dense(1, activation='sigmoid'))\n",
    "\n",
    "print(model.summary())\n",
    "model.compile(loss='binary_crossentropy',\n",
    "              optimizer='adam',\n",
    "              metrics=['acc'])"
   ]
  },
  {
   "cell_type": "code",
   "execution_count": null,
   "metadata": {
    "colab": {
     "base_uri": "https://localhost:8080/"
    },
    "id": "Y6pirvtisHpL",
    "outputId": "b671951c-2206-4167-b0b2-34a9c21c8138"
   },
   "outputs": [
    {
     "name": "stdout",
     "output_type": "stream",
     "text": [
      "Found 1000 images belonging to 2 classes.\n",
      "Found 400 images belonging to 2 classes.\n"
     ]
    }
   ],
   "source": [
    "# All images will be rescaled by 1./255\n",
    "train_dir = '/content/drive/MyDrive/datasets/samples_cats-vs-dogs/samples-cats-dogs/train'\n",
    "validation_dir = '/content/drive/MyDrive/datasets/samples_cats-vs-dogs/samples-cats-dogs/valid'\n",
    "\n",
    "train_datagen = ImageDataGenerator(rescale=1./255)\n",
    "test_datagen = ImageDataGenerator(rescale=1./255)\n",
    "\n",
    "train_generator = train_datagen.flow_from_directory(\n",
    "        # This is the target directory\n",
    "        train_dir,\n",
    "        # All images will be resized to 150x150\n",
    "        target_size=(150, 150),\n",
    "        batch_size=20,\n",
    "        # Since we use binary_crossentropy loss, we need binary labels\n",
    "        class_mode='binary')\n",
    "\n",
    "validation_generator = test_datagen.flow_from_directory(\n",
    "        validation_dir,\n",
    "        target_size=(150, 150),\n",
    "        batch_size=20,\n",
    "        class_mode='binary')"
   ]
  },
  {
   "cell_type": "code",
   "execution_count": null,
   "metadata": {
    "colab": {
     "base_uri": "https://localhost:8080/"
    },
    "id": "b50RD0GBsHrz",
    "outputId": "00203ef5-8188-4302-e814-938a99189c7b"
   },
   "outputs": [
    {
     "name": "stderr",
     "output_type": "stream",
     "text": [
      "/usr/local/lib/python3.7/dist-packages/ipykernel_launcher.py:6: UserWarning: `Model.fit_generator` is deprecated and will be removed in a future version. Please use `Model.fit`, which supports generators.\n",
      "  \n"
     ]
    },
    {
     "name": "stdout",
     "output_type": "stream",
     "text": [
      "Epoch 1/30\n",
      "50/50 [==============================] - ETA: 0s - loss: 1.0483 - acc: 0.4940WARNING:tensorflow:Your input ran out of data; interrupting training. Make sure that your dataset or generator can generate at least `steps_per_epoch * epochs` batches (in this case, 50 batches). You may need to use the repeat() function when building your dataset.\n",
      "50/50 [==============================] - 185s 3s/step - loss: 1.0483 - acc: 0.4940 - val_loss: 0.7377 - val_acc: 0.5000\n",
      "Epoch 2/30\n",
      "50/50 [==============================] - 4s 87ms/step - loss: 0.7130 - acc: 0.5130\n",
      "Epoch 3/30\n",
      "50/50 [==============================] - 4s 86ms/step - loss: 0.6982 - acc: 0.5000\n",
      "Epoch 4/30\n",
      "50/50 [==============================] - 4s 85ms/step - loss: 0.6958 - acc: 0.5000\n",
      "Epoch 5/30\n",
      "50/50 [==============================] - 4s 89ms/step - loss: 0.6939 - acc: 0.4770\n",
      "Epoch 6/30\n",
      "50/50 [==============================] - 4s 88ms/step - loss: 0.6940 - acc: 0.5000\n",
      "Epoch 7/30\n",
      "50/50 [==============================] - 4s 88ms/step - loss: 0.6931 - acc: 0.5000\n",
      "Epoch 8/30\n",
      "50/50 [==============================] - 4s 86ms/step - loss: 0.6946 - acc: 0.4990\n",
      "Epoch 9/30\n",
      "50/50 [==============================] - 4s 85ms/step - loss: 0.6962 - acc: 0.5110\n",
      "Epoch 10/30\n",
      "50/50 [==============================] - 4s 86ms/step - loss: 0.6989 - acc: 0.5390\n",
      "Epoch 11/30\n",
      "50/50 [==============================] - 4s 86ms/step - loss: 0.6902 - acc: 0.5570\n",
      "Epoch 12/30\n",
      "50/50 [==============================] - 4s 88ms/step - loss: 0.6855 - acc: 0.5810\n",
      "Epoch 13/30\n",
      "50/50 [==============================] - 4s 86ms/step - loss: 0.6934 - acc: 0.5560\n",
      "Epoch 14/30\n",
      "50/50 [==============================] - 4s 86ms/step - loss: 0.6970 - acc: 0.5460\n",
      "Epoch 15/30\n",
      "50/50 [==============================] - 4s 86ms/step - loss: 0.6911 - acc: 0.5570\n",
      "Epoch 16/30\n",
      "50/50 [==============================] - 4s 85ms/step - loss: 0.6842 - acc: 0.5910\n",
      "Epoch 17/30\n",
      "50/50 [==============================] - 4s 85ms/step - loss: 0.6809 - acc: 0.6120\n",
      "Epoch 18/30\n",
      "50/50 [==============================] - 4s 84ms/step - loss: 0.6742 - acc: 0.6050\n",
      "Epoch 19/30\n",
      "50/50 [==============================] - 4s 87ms/step - loss: 0.6523 - acc: 0.6320\n",
      "Epoch 20/30\n",
      "50/50 [==============================] - 4s 86ms/step - loss: 0.6326 - acc: 0.6580\n",
      "Epoch 21/30\n",
      "50/50 [==============================] - 4s 86ms/step - loss: 0.6352 - acc: 0.6400\n",
      "Epoch 22/30\n",
      "50/50 [==============================] - 4s 86ms/step - loss: 0.6149 - acc: 0.6850\n",
      "Epoch 23/30\n",
      "50/50 [==============================] - 4s 85ms/step - loss: 0.6047 - acc: 0.7080\n",
      "Epoch 24/30\n",
      "50/50 [==============================] - 4s 85ms/step - loss: 0.5893 - acc: 0.7200\n",
      "Epoch 25/30\n",
      "50/50 [==============================] - 4s 87ms/step - loss: 0.6359 - acc: 0.6850\n",
      "Epoch 26/30\n",
      "50/50 [==============================] - 4s 86ms/step - loss: 0.5746 - acc: 0.7190\n",
      "Epoch 27/30\n",
      "50/50 [==============================] - 4s 86ms/step - loss: 0.5677 - acc: 0.7310\n",
      "Epoch 28/30\n",
      "50/50 [==============================] - 4s 86ms/step - loss: 0.5381 - acc: 0.7530\n",
      "Epoch 29/30\n",
      "50/50 [==============================] - 4s 86ms/step - loss: 0.5345 - acc: 0.7590\n",
      "Epoch 30/30\n",
      "50/50 [==============================] - 4s 85ms/step - loss: 0.5207 - acc: 0.7620\n"
     ]
    }
   ],
   "source": [
    "history = model.fit_generator(\n",
    "      train_generator,\n",
    "      steps_per_epoch=50,\n",
    "      epochs=30,\n",
    "      validation_data=validation_generator,\n",
    "      validation_steps=50)"
   ]
  },
  {
   "cell_type": "code",
   "execution_count": null,
   "metadata": {
    "colab": {
     "base_uri": "https://localhost:8080/",
     "height": 544
    },
    "id": "iFAxsqVAsHuT",
    "outputId": "ee7f992b-66b1-4497-dcdd-d585809c5b5a"
   },
   "outputs": [
    {
     "data": {
      "image/png": "[encoded data removed]",
      "text/plain": [
       "<Figure size 432x288 with 1 Axes>"
      ]
     },
     "metadata": {
      "needs_background": "light"
     },
     "output_type": "display_data"
    },
    {
     "data": {
      "image/png": "[encoded data removed]",
      "text/plain": [
       "<Figure size 432x288 with 1 Axes>"
      ]
     },
     "metadata": {
      "needs_background": "light"
     },
     "output_type": "display_data"
    }
   ],
   "source": [
    "\n",
    "acc = history.history['acc']\n",
    "loss = history.history['loss']\n",
    "\n",
    "epochs = range(len(acc))\n",
    "\n",
    "plt.plot(epochs, acc, 'bo', label='Training acc')\n",
    "plt.title('Training and validation accuracy')\n",
    "plt.legend()\n",
    "\n",
    "plt.figure()\n",
    "\n",
    "plt.plot(epochs, loss, 'bo', label='Training loss')\n",
    "plt.title('Training and validation loss')\n",
    "plt.legend()\n",
    "\n",
    "plt.show()\n"
   ]
  },
  {
   "cell_type": "markdown",
   "metadata": {
    "id": "mBSYWH9tJggO"
   },
   "source": [
    "now we can see that the  accuracy almost 50% after 30 epochs and this because the low number of data so wee need to use all data 10000 images\n"
   ]
  },
  {
   "cell_type": "markdown",
   "metadata": {
    "id": "RP3g2F__J2fX"
   },
   "source": [
    "## classification using all data and Regularizetion\n",
    "the data is contain 5000 images for cats and 5000 for dogs to train the model .. and about 1800 images for validation for cats and dogs\n"
   ]
  },
  {
   "cell_type": "code",
   "execution_count": null,
   "metadata": {
    "colab": {
     "base_uri": "https://localhost:8080/"
    },
    "id": "MGs3sc_XsHw_",
    "outputId": "dd1c1545-96b9-4ee0-c4fd-b621fe69c145"
   },
   "outputs": [
    {
     "name": "stdout",
     "output_type": "stream",
     "text": [
      "Found 10000 images belonging to 2 classes.\n",
      "Found 1780 images belonging to 2 classes.\n"
     ]
    }
   ],
   "source": [
    "train_dir = '/content/drive/MyDrive/datasets/cats-vs-dogs/train'\n",
    "validation_dir = '/content/drive/MyDrive/datasets/cats-vs-dogs/valid'\n",
    "\n",
    "\n",
    "train_datagen = ImageDataGenerator(rescale=1./255)\n",
    "test_datagen = ImageDataGenerator(rescale=1./255)\n",
    "\n",
    "\n",
    "\n",
    "train_generator = train_datagen.flow_from_directory(\n",
    "        # This is the target directory\n",
    "        train_dir,\n",
    "        # All images will be resized to 150x150\n",
    "        target_size=(150, 150),\n",
    "        batch_size=20,\n",
    "        # Since we use binary_crossentropy loss, we need binary labels\n",
    "        class_mode='binary')\n",
    "\n",
    "validation_generator = test_datagen.flow_from_directory(\n",
    "        validation_dir,\n",
    "        target_size=(150, 150),\n",
    "        batch_size=20,\n",
    "        class_mode='binary')"
   ]
  },
  {
   "cell_type": "code",
   "execution_count": null,
   "metadata": {
    "colab": {
     "base_uri": "https://localhost:8080/"
    },
    "id": "9D4mVTT6sHzU",
    "outputId": "e1dcb8d2-e2b2-49e2-c196-f69b505a6e68"
   },
   "outputs": [
    {
     "name": "stderr",
     "output_type": "stream",
     "text": [
      "/usr/local/lib/python3.7/dist-packages/ipykernel_launcher.py:6: UserWarning: `Model.fit_generator` is deprecated and will be removed in a future version. Please use `Model.fit`, which supports generators.\n",
      "  \n"
     ]
    },
    {
     "name": "stdout",
     "output_type": "stream",
     "text": [
      "Epoch 1/30\n",
      "500/500 [==============================] - 1212s 2s/step - loss: 0.5906 - acc: 0.7228 - val_loss: 0.5601 - val_acc: 0.7590\n",
      "Epoch 2/30\n",
      "500/500 [==============================] - 123s 247ms/step - loss: 0.5368 - acc: 0.7524 - val_loss: 0.5637 - val_acc: 0.7310\n",
      "Epoch 3/30\n",
      "500/500 [==============================] - 80s 161ms/step - loss: 0.4929 - acc: 0.7758 - val_loss: 0.4923 - val_acc: 0.7870\n",
      "Epoch 4/30\n",
      "500/500 [==============================] - 61s 123ms/step - loss: 0.4546 - acc: 0.8004 - val_loss: 0.4651 - val_acc: 0.7940\n",
      "Epoch 5/30\n",
      "500/500 [==============================] - 52s 104ms/step - loss: 0.4271 - acc: 0.8188 - val_loss: 0.4027 - val_acc: 0.8320\n",
      "Epoch 6/30\n",
      "500/500 [==============================] - 49s 98ms/step - loss: 0.4126 - acc: 0.8314 - val_loss: 0.4623 - val_acc: 0.8080\n",
      "Epoch 7/30\n",
      "500/500 [==============================] - 48s 96ms/step - loss: 0.3721 - acc: 0.8486 - val_loss: 0.4031 - val_acc: 0.8320\n",
      "Epoch 8/30\n",
      "500/500 [==============================] - 47s 94ms/step - loss: 0.3543 - acc: 0.8588 - val_loss: 0.3831 - val_acc: 0.8460\n",
      "Epoch 9/30\n",
      "500/500 [==============================] - 47s 93ms/step - loss: 0.3313 - acc: 0.8703 - val_loss: 0.3795 - val_acc: 0.8640\n",
      "Epoch 10/30\n",
      "500/500 [==============================] - 47s 93ms/step - loss: 0.3119 - acc: 0.8819 - val_loss: 0.4290 - val_acc: 0.8210\n",
      "Epoch 11/30\n",
      "500/500 [==============================] - 47s 93ms/step - loss: 0.2799 - acc: 0.8939 - val_loss: 0.3538 - val_acc: 0.8720\n",
      "Epoch 12/30\n",
      "500/500 [==============================] - 46s 93ms/step - loss: 0.2678 - acc: 0.9022 - val_loss: 0.3459 - val_acc: 0.8740\n",
      "Epoch 13/30\n",
      "500/500 [==============================] - 46s 93ms/step - loss: 0.2501 - acc: 0.9117 - val_loss: 0.3631 - val_acc: 0.8610\n",
      "Epoch 14/30\n",
      "500/500 [==============================] - 46s 93ms/step - loss: 0.2349 - acc: 0.9160 - val_loss: 0.3495 - val_acc: 0.8890\n",
      "Epoch 15/30\n",
      "500/500 [==============================] - 46s 93ms/step - loss: 0.2098 - acc: 0.9283 - val_loss: 0.4553 - val_acc: 0.8550\n",
      "Epoch 16/30\n",
      "500/500 [==============================] - 46s 93ms/step - loss: 0.2035 - acc: 0.9310 - val_loss: 0.3934 - val_acc: 0.8630\n",
      "Epoch 17/30\n",
      "500/500 [==============================] - 46s 93ms/step - loss: 0.1898 - acc: 0.9376 - val_loss: 0.3352 - val_acc: 0.8920\n",
      "Epoch 18/30\n",
      "500/500 [==============================] - 47s 93ms/step - loss: 0.1830 - acc: 0.9410 - val_loss: 0.3599 - val_acc: 0.8650\n",
      "Epoch 19/30\n",
      "500/500 [==============================] - 47s 93ms/step - loss: 0.1673 - acc: 0.9473 - val_loss: 0.3987 - val_acc: 0.8650\n",
      "Epoch 20/30\n",
      "500/500 [==============================] - 46s 92ms/step - loss: 0.1693 - acc: 0.9467 - val_loss: 0.3328 - val_acc: 0.9020\n",
      "Epoch 21/30\n",
      "500/500 [==============================] - 46s 92ms/step - loss: 0.1544 - acc: 0.9523 - val_loss: 0.3954 - val_acc: 0.8920\n",
      "Epoch 22/30\n",
      "500/500 [==============================] - 46s 92ms/step - loss: 0.1501 - acc: 0.9555 - val_loss: 0.3619 - val_acc: 0.8820\n",
      "Epoch 23/30\n",
      "500/500 [==============================] - 46s 92ms/step - loss: 0.1356 - acc: 0.9625 - val_loss: 0.3621 - val_acc: 0.8820\n",
      "Epoch 24/30\n",
      "500/500 [==============================] - 46s 93ms/step - loss: 0.1351 - acc: 0.9616 - val_loss: 0.3968 - val_acc: 0.8810\n",
      "Epoch 25/30\n",
      "500/500 [==============================] - 47s 93ms/step - loss: 0.1308 - acc: 0.9635 - val_loss: 0.4868 - val_acc: 0.8690\n",
      "Epoch 26/30\n",
      "500/500 [==============================] - 46s 92ms/step - loss: 0.1215 - acc: 0.9661 - val_loss: 0.4482 - val_acc: 0.8810\n",
      "Epoch 27/30\n",
      "500/500 [==============================] - 46s 92ms/step - loss: 0.1181 - acc: 0.9691 - val_loss: 0.3826 - val_acc: 0.9000\n",
      "Epoch 28/30\n",
      "500/500 [==============================] - 46s 92ms/step - loss: 0.1226 - acc: 0.9673 - val_loss: 0.3680 - val_acc: 0.8960\n",
      "Epoch 29/30\n",
      "500/500 [==============================] - 47s 93ms/step - loss: 0.1095 - acc: 0.9695 - val_loss: 0.3477 - val_acc: 0.8910\n",
      "Epoch 30/30\n",
      "500/500 [==============================] - 47s 93ms/step - loss: 0.1069 - acc: 0.9725 - val_loss: 0.4815 - val_acc: 0.8780\n"
     ]
    }
   ],
   "source": [
    "history = model.fit_generator(\n",
    "      train_generator,\n",
    "      steps_per_epoch=500,\n",
    "      epochs=30,\n",
    "      validation_data=validation_generator,\n",
    "      validation_steps=50)"
   ]
  },
  {
   "cell_type": "code",
   "execution_count": null,
   "metadata": {
    "colab": {
     "base_uri": "https://localhost:8080/",
     "height": 544
    },
    "id": "ZoWiWqCGIjno",
    "outputId": "cf0c62a6-8bbe-461a-8da7-a641e122b8af"
   },
   "outputs": [
    {
     "data": {
      "image/png": "[encoded data removed]",
      "text/plain": [
       "<Figure size 432x288 with 1 Axes>"
      ]
     },
     "metadata": {
      "needs_background": "light"
     },
     "output_type": "display_data"
    },
    {
     "data": {
      "image/png": "[encoded data removed]",
      "text/plain": [
       "<Figure size 432x288 with 1 Axes>"
      ]
     },
     "metadata": {
      "needs_background": "light"
     },
     "output_type": "display_data"
    }
   ],
   "source": [
    "\n",
    "acc = history.history['acc']\n",
    "val_acc = history.history['val_acc']\n",
    "loss = history.history['loss']\n",
    "val_loss = history.history['val_loss']\n",
    "\n",
    "epochs = range(len(acc))\n",
    "\n",
    "plt.plot(epochs, acc, 'bo', label='Training acc')\n",
    "plt.plot(epochs, val_acc, 'b', label='Validation acc')\n",
    "plt.title('Training and validation accuracy')\n",
    "plt.legend()\n",
    "\n",
    "plt.figure()\n",
    "\n",
    "plt.plot(epochs, loss, 'bo', label='Training loss')\n",
    "plt.plot(epochs, val_loss, 'b', label='Validation loss')\n",
    "plt.title('Training and validation loss')\n",
    "plt.legend()\n",
    "\n",
    "plt.show()\n"
   ]
  },
  {
   "cell_type": "markdown",
   "metadata": {
    "id": "Y5unN3KKUAB4"
   },
   "source": [
    "we can see that the accuracy reached 87% and also we can see that there is overfitting start to accur from almost epoch 17 so we will use data augmentation to increas the number of the data "
   ]
  },
  {
   "cell_type": "markdown",
   "metadata": {
    "id": "Hk4HqmkEIk-R"
   },
   "source": [
    "## calssification using Data Augmentation  (offline way) and Regularizetion above all data:"
   ]
  },
  {
   "cell_type": "markdown",
   "metadata": {
    "id": "F4x1J_uhDlw_"
   },
   "source": [
    "1) Offline Running the convolutional base over our dataset, recording its output to a Numpy array on disk, then using this data as input to a standalone densely-connected classifier similar to those you have seen in the first chapters of this book.\n",
    "\n",
    "This solution is very fast (fast training because the expensive conv operation is not run every step of backprop, but slow in saving the data for sure) and cheap to run, because it only requires running the convolutional base once for every input image, and the convolutional base is by far the most expensive part of the pipeline.\n",
    "\n",
    "However, for the exact same reason, this technique would not allow us to leverage data augmentation at all (because you already work at the features level). But you can think of another way to do data augmentation in the offline mode, which is to apply image transformations on the static data on disk, and then extract features for those. However, doing so, will limit the amount of augmented data, since it's done once at the beginning, versus doing augmentation at every step of the trainig, so getting new uncorrelated samples with every step. Note that: the offline data augmentation is not supported in Keras, since the ImageGenerator class is called within fit_generator, so must be online.\n",
    "\n",
    "Advantages:\n",
    "\n",
    "Fast training (no conv during training)\n",
    "Disadvantages:\n",
    "\n",
    "Augmentation not possible in Keras (not even offline augmentation)\n",
    "Offline autmentation limits the amount of generated data unlike the online mode. There might be correlations as well.\n"
   ]
  },
  {
   "cell_type": "code",
   "execution_count": null,
   "metadata": {
    "colab": {
     "base_uri": "https://localhost:8080/"
    },
    "id": "mOc1AU__sH2G",
    "outputId": "c95371b9-27a9-45d8-bd0b-0b23204741cf"
   },
   "outputs": [
    {
     "name": "stdout",
     "output_type": "stream",
     "text": [
      "Model: \"sequential_1\"\n",
      "_________________________________________________________________\n",
      " Layer (type)                Output Shape              Param #   \n",
      "=================================================================\n",
      " conv2d_4 (Conv2D)           (None, 148, 148, 32)      896       \n",
      "                                                                 \n",
      " max_pooling2d_4 (MaxPooling  (None, 74, 74, 32)       0         \n",
      " 2D)                                                             \n",
      "                                                                 \n",
      " conv2d_5 (Conv2D)           (None, 72, 72, 64)        18496     \n",
      "                                                                 \n",
      " max_pooling2d_5 (MaxPooling  (None, 36, 36, 64)       0         \n",
      " 2D)                                                             \n",
      "                                                                 \n",
      " conv2d_6 (Conv2D)           (None, 34, 34, 128)       73856     \n",
      "                                                                 \n",
      " max_pooling2d_6 (MaxPooling  (None, 17, 17, 128)      0         \n",
      " 2D)                                                             \n",
      "                                                                 \n",
      " conv2d_7 (Conv2D)           (None, 15, 15, 128)       147584    \n",
      "                                                                 \n",
      " max_pooling2d_7 (MaxPooling  (None, 7, 7, 128)        0         \n",
      " 2D)                                                             \n",
      "                                                                 \n",
      " flatten_1 (Flatten)         (None, 6272)              0         \n",
      "                                                                 \n",
      " dropout_1 (Dropout)         (None, 6272)              0         \n",
      "                                                                 \n",
      " dense_2 (Dense)             (None, 64)                401472    \n",
      "                                                                 \n",
      " dense_3 (Dense)             (None, 1)                 65        \n",
      "                                                                 \n",
      "=================================================================\n",
      "Total params: 642,369\n",
      "Trainable params: 642,369\n",
      "Non-trainable params: 0\n",
      "_________________________________________________________________\n",
      "None\n"
     ]
    }
   ],
   "source": [
    "model = models.Sequential()\n",
    "model.add(layers.Conv2D(32, (3, 3), activation='relu',\n",
    "                        input_shape=(150, 150, 3)))\n",
    "model.add(layers.MaxPooling2D((2, 2)))\n",
    "\n",
    "model.add(layers.Conv2D(64, (3, 3), activation='relu'))\n",
    "model.add(layers.MaxPooling2D((2, 2)))\n",
    "\n",
    "model.add(layers.Conv2D(128, (3, 3), activation='relu'))\n",
    "model.add(layers.MaxPooling2D((2, 2)))\n",
    "\n",
    "model.add(layers.Conv2D(128, (3, 3), activation='relu'))\n",
    "model.add(layers.MaxPooling2D((2, 2)))\n",
    "\n",
    "\n",
    "model.add(layers.Flatten())\n",
    "model.add(layers.Dropout(0.5))\n",
    "model.add(layers.Dense(64, kernel_regularizer='L2', activation='relu'))\n",
    "model.add(layers.Dense(1, activation='sigmoid'))\n",
    "\n",
    "print(model.summary())\n",
    "model.compile(loss='binary_crossentropy',\n",
    "              optimizer='adam',\n",
    "              metrics=['acc'])"
   ]
  },
  {
   "cell_type": "code",
   "execution_count": null,
   "metadata": {
    "id": "7cHUYLVmxrij"
   },
   "outputs": [],
   "source": [
    "train_dir = '/content/drive/MyDrive/datasets/cats-vs-dogs/train'\n",
    "validation_dir = '/content/drive/MyDrive/datasets/samples_cats-vs-dogs/samples-cats-dogs/valid'\n",
    "\n",
    "train_datagen = ImageDataGenerator(\n",
    "    rescale=1./255,\n",
    "    rotation_range=40,\n",
    "    width_shift_range=0.2,\n",
    "    height_shift_range=0.2,\n",
    "    shear_range=0.2,\n",
    "    zoom_range=0.2,\n",
    "    horizontal_flip=True,)"
   ]
  },
  {
   "cell_type": "code",
   "execution_count": null,
   "metadata": {
    "id": "zzbgMQKsxrlN"
   },
   "outputs": [],
   "source": [
    "# train_cats_dir = '/content/drive/MyDrive/datasets/cats-vs-dogs/train/cats (1)'\n",
    "# train_dogs_dir = '/content/drive/MyDrive/datasets/cats-vs-dogs/train/dogs'\n",
    "# aug_cats_dir = '/content/drive/MyDrive/datasets/augmented/cats'\n",
    "# aug_dogs_dir = '/content/drive/MyDrive/datasets/augmented/dogs'\n",
    "# i = 0\n",
    "# j = 0\n",
    "\n",
    "# # i will use batch_size = 16 and the number of iterations will be 625 that to gain 10000 images from 5000 images\n",
    "\n",
    "# for batch in train_datagen.flow_from_directory(train_cats_dir, batch_size=16 ,\n",
    "#                                                target_size =(150, 150),\n",
    "#                                                save_to_dir = aug_cats_dir ,\n",
    "#                                                save_prefix ='aug',\n",
    "#                                                save_format ='png'):\n",
    "#   i=i+1\n",
    "#   if i >= 625 :\n",
    "#     break\n",
    "\n",
    "\n"
   ]
  },
  {
   "cell_type": "code",
   "execution_count": null,
   "metadata": {
    "id": "5htpopYfR7Ai"
   },
   "outputs": [],
   "source": [
    "# for batch in train_datagen.flow_from_directory(train_dogs_dir ,\n",
    "#                                                batch_size= 16 , \n",
    "#                                                target_size=(150 , 150),\n",
    "#                                                save_to_dir= aug_dogs_dir , \n",
    "#                                                save_prefix = 'aug' , \n",
    "#                                                save_format = 'png') :\n",
    "                                  \n",
    "#   j = j+1\n",
    "#   if j >=625:\n",
    "#     break"
   ]
  },
  {
   "cell_type": "code",
   "execution_count": null,
   "metadata": {
    "colab": {
     "base_uri": "https://localhost:8080/"
    },
    "id": "ExitVpFpsH4X",
    "outputId": "2b1e65be-da3d-4caa-8ac1-50dee512ce35"
   },
   "outputs": [
    {
     "name": "stdout",
     "output_type": "stream",
     "text": [
      "Found 10000 images belonging to 2 classes.\n",
      "Found 400 images belonging to 2 classes.\n"
     ]
    }
   ],
   "source": [
    "\n",
    "train_datagen = ImageDataGenerator(\n",
    "    rescale=1./255,\n",
    "    rotation_range=40,\n",
    "    width_shift_range=0.2,\n",
    "    height_shift_range=0.2,\n",
    "    shear_range=0.2,\n",
    "    zoom_range=0.2,\n",
    "    horizontal_flip=True,\n",
    "    fill_mode = 'nearest')\n",
    "\n",
    "# Note that the validation data should not be augmented!\n",
    "test_datagen = ImageDataGenerator(rescale=1./255)\n",
    "\n",
    "train_generator = train_datagen.flow_from_directory(\n",
    "        # This is the target directory\n",
    "        train_dir,\n",
    "        # All images will be resized to 150x150\n",
    "        target_size=(150, 150),\n",
    "        batch_size=20,\n",
    "        # Since we use binary_crossentropy loss, we need binary labels\n",
    "        class_mode='binary')\n",
    "\n",
    "\n",
    "\n",
    "validation_generator = test_datagen.flow_from_directory(\n",
    "        validation_dir,\n",
    "        target_size=(150, 150),\n",
    "        batch_size=20,\n",
    "        class_mode='binary')\n"
   ]
  },
  {
   "cell_type": "code",
   "execution_count": null,
   "metadata": {
    "colab": {
     "base_uri": "https://localhost:8080/"
    },
    "id": "i-XAmYYfxrn0",
    "outputId": "3abbaef8-ae7c-47ca-f906-2589004ab70a"
   },
   "outputs": [
    {
     "name": "stdout",
     "output_type": "stream",
     "text": [
      "Found 19990 images belonging to 2 classes.\n",
      "Found 1780 images belonging to 2 classes.\n"
     ]
    }
   ],
   "source": [
    "augm_dir = '/content/drive/MyDrive/datasets/augmented'\n",
    "validation_dir = '/content/drive/MyDrive/datasets/cats-vs-dogs/valid'\n",
    "\n",
    "train_datagen = ImageDataGenerator(rescale=1./255)\n",
    "test_datagen = ImageDataGenerator(rescale=1./255)\n",
    "\n",
    "train_generator = train_datagen.flow_from_directory(\n",
    "        # This is the target directory\n",
    "        augm_dir,\n",
    "        # All images will be resized to 150x150\n",
    "        target_size=(150, 150),\n",
    "        batch_size=20,\n",
    "        # Since we use binary_crossentropy loss, we need binary labels\n",
    "        class_mode='binary')\n",
    "\n",
    "validation_generator = test_datagen.flow_from_directory(\n",
    "        validation_dir,\n",
    "        target_size=(150, 150),\n",
    "        batch_size=20,\n",
    "        class_mode='binary')"
   ]
  },
  {
   "cell_type": "code",
   "execution_count": null,
   "metadata": {
    "colab": {
     "base_uri": "https://localhost:8080/"
    },
    "id": "dtZv-2TSsogE",
    "outputId": "ffb98d77-8414-499e-d09d-c59faa23bea2"
   },
   "outputs": [
    {
     "name": "stderr",
     "output_type": "stream",
     "text": [
      "/usr/local/lib/python3.7/dist-packages/ipykernel_launcher.py:6: UserWarning: `Model.fit_generator` is deprecated and will be removed in a future version. Please use `Model.fit`, which supports generators.\n",
      "  \n"
     ]
    },
    {
     "name": "stdout",
     "output_type": "stream",
     "text": [
      "Epoch 1/30\n",
      "999/999 [==============================] - 2019s 2s/step - loss: 0.6997 - acc: 0.5648 - val_loss: 0.6419 - val_acc: 0.6470\n",
      "Epoch 2/30\n",
      "999/999 [==============================] - 67s 67ms/step - loss: 0.6494 - acc: 0.6316 - val_loss: 0.6004 - val_acc: 0.6930\n",
      "Epoch 3/30\n",
      "999/999 [==============================] - 67s 67ms/step - loss: 0.6109 - acc: 0.6786 - val_loss: 0.5669 - val_acc: 0.6970\n",
      "Epoch 4/30\n",
      "999/999 [==============================] - 68s 68ms/step - loss: 0.5786 - acc: 0.7110 - val_loss: 0.4938 - val_acc: 0.7640\n",
      "Epoch 5/30\n",
      "999/999 [==============================] - 68s 68ms/step - loss: 0.5559 - acc: 0.7275 - val_loss: 0.4958 - val_acc: 0.7750\n",
      "Epoch 6/30\n",
      "999/999 [==============================] - 67s 67ms/step - loss: 0.5351 - acc: 0.7458 - val_loss: 0.5135 - val_acc: 0.7520\n",
      "Epoch 7/30\n",
      "999/999 [==============================] - 67s 67ms/step - loss: 0.5149 - acc: 0.7611 - val_loss: 0.4419 - val_acc: 0.7920\n",
      "Epoch 8/30\n",
      "999/999 [==============================] - 66s 67ms/step - loss: 0.4919 - acc: 0.7745 - val_loss: 0.4309 - val_acc: 0.8080\n",
      "Epoch 9/30\n",
      "999/999 [==============================] - 67s 67ms/step - loss: 0.4674 - acc: 0.7948 - val_loss: 0.4263 - val_acc: 0.8270\n",
      "Epoch 10/30\n",
      "999/999 [==============================] - 66s 66ms/step - loss: 0.4441 - acc: 0.8056 - val_loss: 0.3745 - val_acc: 0.8600\n",
      "Epoch 11/30\n",
      "999/999 [==============================] - 66s 66ms/step - loss: 0.4258 - acc: 0.8208 - val_loss: 0.3711 - val_acc: 0.8490\n",
      "Epoch 12/30\n",
      "999/999 [==============================] - 66s 66ms/step - loss: 0.4020 - acc: 0.8311 - val_loss: 0.3546 - val_acc: 0.8530\n",
      "Epoch 13/30\n",
      "999/999 [==============================] - 67s 67ms/step - loss: 0.3748 - acc: 0.8447 - val_loss: 0.3837 - val_acc: 0.8360\n",
      "Epoch 14/30\n",
      "999/999 [==============================] - 66s 67ms/step - loss: 0.3573 - acc: 0.8571 - val_loss: 0.3623 - val_acc: 0.8540\n",
      "Epoch 15/30\n",
      "999/999 [==============================] - 66s 66ms/step - loss: 0.3380 - acc: 0.8662 - val_loss: 0.3231 - val_acc: 0.8600\n",
      "Epoch 16/30\n",
      "999/999 [==============================] - 67s 67ms/step - loss: 0.3202 - acc: 0.8780 - val_loss: 0.3541 - val_acc: 0.8650\n",
      "Epoch 17/30\n",
      "999/999 [==============================] - 67s 67ms/step - loss: 0.3132 - acc: 0.8774 - val_loss: 0.3258 - val_acc: 0.8750\n",
      "Epoch 18/30\n",
      "999/999 [==============================] - 67s 67ms/step - loss: 0.2960 - acc: 0.8858 - val_loss: 0.3985 - val_acc: 0.8380\n",
      "Epoch 19/30\n",
      "999/999 [==============================] - 67s 67ms/step - loss: 0.2826 - acc: 0.8927 - val_loss: 0.3409 - val_acc: 0.8620\n",
      "Epoch 20/30\n",
      "999/999 [==============================] - 67s 67ms/step - loss: 0.2656 - acc: 0.9045 - val_loss: 0.3452 - val_acc: 0.8680\n",
      "Epoch 21/30\n",
      "999/999 [==============================] - 67s 67ms/step - loss: 0.2543 - acc: 0.9067 - val_loss: 0.2964 - val_acc: 0.8990\n",
      "Epoch 22/30\n",
      "999/999 [==============================] - 67s 67ms/step - loss: 0.2356 - acc: 0.9141 - val_loss: 0.3291 - val_acc: 0.8790\n",
      "Epoch 23/30\n",
      "999/999 [==============================] - 67s 67ms/step - loss: 0.2355 - acc: 0.9167 - val_loss: 0.3182 - val_acc: 0.8860\n",
      "Epoch 24/30\n",
      "999/999 [==============================] - 67s 67ms/step - loss: 0.2193 - acc: 0.9218 - val_loss: 0.3313 - val_acc: 0.9020\n",
      "Epoch 25/30\n",
      "999/999 [==============================] - 67s 67ms/step - loss: 0.2086 - acc: 0.9258 - val_loss: 0.3196 - val_acc: 0.8940\n",
      "Epoch 26/30\n",
      "999/999 [==============================] - 67s 67ms/step - loss: 0.1998 - acc: 0.9304 - val_loss: 0.3529 - val_acc: 0.8810\n",
      "Epoch 27/30\n",
      "999/999 [==============================] - 66s 66ms/step - loss: 0.1879 - acc: 0.9349 - val_loss: 0.3689 - val_acc: 0.8790\n",
      "Epoch 28/30\n",
      "999/999 [==============================] - 67s 67ms/step - loss: 0.1906 - acc: 0.9367 - val_loss: 0.3616 - val_acc: 0.8860\n",
      "Epoch 29/30\n",
      "999/999 [==============================] - 68s 68ms/step - loss: 0.1746 - acc: 0.9423 - val_loss: 0.4521 - val_acc: 0.8750\n",
      "Epoch 30/30\n",
      "999/999 [==============================] - 66s 66ms/step - loss: 0.1638 - acc: 0.9467 - val_loss: 0.3591 - val_acc: 0.8880\n"
     ]
    }
   ],
   "source": [
    "history = model.fit_generator(\n",
    "      train_generator,\n",
    "      steps_per_epoch=999,\n",
    "      epochs=30,\n",
    "      validation_data=validation_generator,\n",
    "      validation_steps=50)"
   ]
  },
  {
   "cell_type": "code",
   "execution_count": null,
   "metadata": {
    "colab": {
     "base_uri": "https://localhost:8080/",
     "height": 544
    },
    "id": "mS7zzWmcsH9H",
    "outputId": "18b1b45d-4b38-4ecf-8519-e91d49ad50cf"
   },
   "outputs": [
    {
     "data": {
      "image/png": "[encoded data removed]",
      "text/plain": [
       "<Figure size 432x288 with 1 Axes>"
      ]
     },
     "metadata": {
      "needs_background": "light"
     },
     "output_type": "display_data"
    },
    {
     "data": {
      "image/png": "[encoded data removed]",
      "text/plain": [
       "<Figure size 432x288 with 1 Axes>"
      ]
     },
     "metadata": {
      "needs_background": "light"
     },
     "output_type": "display_data"
    }
   ],
   "source": [
    "\n",
    "acc = history.history['acc']\n",
    "val_acc = history.history['val_acc']\n",
    "loss = history.history['loss']\n",
    "val_loss = history.history['val_loss']\n",
    "\n",
    "epochs = range(len(acc))\n",
    "\n",
    "plt.plot(epochs, acc, 'bo', label='Training acc')\n",
    "plt.plot(epochs, val_acc, 'b', label='Validation acc')\n",
    "plt.title('Training and validation accuracy')\n",
    "plt.legend()\n",
    "\n",
    "plt.figure()\n",
    "\n",
    "plt.plot(epochs, loss, 'bo', label='Training loss')\n",
    "plt.plot(epochs, val_loss, 'b', label='Validation loss')\n",
    "plt.title('Training and validation loss')\n",
    "plt.legend()\n",
    "\n",
    "plt.show()\n"
   ]
  },
  {
   "cell_type": "markdown",
   "metadata": {
    "id": "_M-3dYUYB2HG"
   },
   "source": [
    "thanks for data augmentation overfitting is less than overfitting without data augmentation but still exisit because here we did offline data augmetation so we need to do online data augmentation"
   ]
  },
  {
   "cell_type": "code",
   "execution_count": null,
   "metadata": {
    "id": "fNaXKbbBYXBk"
   },
   "outputs": [],
   "source": []
  },
  {
   "cell_type": "markdown",
   "metadata": {
    "id": "xLlj81FpIuad"
   },
   "source": [
    "## calssification using Data Augmentation (online way) and Regularizetion :"
   ]
  },
  {
   "cell_type": "markdown",
   "metadata": {
    "id": "Ck7Ig3tEDsMA"
   },
   "source": [
    "2) Online Extending the model we have (conv_base) by adding Dense layers on top, and running the whole thing end-to-end on the input data.\n",
    "\n",
    "This allows us to use data augmentation, because every input image is going through the convolutional base every time it is seen by the model.\n",
    "\n",
    "However, for this same reason, this technique is far more expensive than the first one.\n",
    "\n",
    "Advantages:\n",
    "\n",
    "Online augmentation provides unlimited, and uncorrelated samples, with every training step.\n",
    "Disadvantages:\n",
    "\n",
    "Slow training"
   ]
  },
  {
   "cell_type": "code",
   "execution_count": null,
   "metadata": {
    "id": "pv7F_etQIyua"
   },
   "outputs": [],
   "source": []
  },
  {
   "cell_type": "code",
   "execution_count": null,
   "metadata": {
    "id": "-HZ4xLC-Izyn"
   },
   "outputs": [],
   "source": []
  },
  {
   "cell_type": "code",
   "execution_count": null,
   "metadata": {
    "id": "e6P6vxBVIz05"
   },
   "outputs": [],
   "source": []
  },
  {
   "cell_type": "code",
   "execution_count": null,
   "metadata": {
    "id": "HCex6-qfIz3a"
   },
   "outputs": [],
   "source": []
  },
  {
   "cell_type": "code",
   "execution_count": null,
   "metadata": {
    "id": "zzGq9J4YIz6B"
   },
   "outputs": [],
   "source": []
  },
  {
   "cell_type": "code",
   "execution_count": null,
   "metadata": {
    "id": "jWYPTqnMIz8U"
   },
   "outputs": [],
   "source": []
  },
  {
   "cell_type": "markdown",
   "metadata": {
    "id": "keS_eN4Algt1"
   },
   "source": [
    "## save model, transfer it and then fine tuning"
   ]
  },
  {
   "cell_type": "markdown",
   "metadata": {
    "id": "VP0kIenr7ZuS"
   },
   "source": [
    "### Transfer Learning Withot Tuning"
   ]
  },
  {
   "cell_type": "code",
   "execution_count": 6,
   "metadata": {
    "id": "XMz2JhUjEMrv"
   },
   "outputs": [],
   "source": [
    "from keras.applications.vgg16 import VGG16\n"
   ]
  },
  {
   "cell_type": "code",
   "execution_count": 7,
   "metadata": {
    "colab": {
     "base_uri": "https://localhost:8080/"
    },
    "id": "HHr1TP1fr_ZF",
    "outputId": "671ebb0a-0626-40d8-d07e-31c6cd74cd16"
   },
   "outputs": [
    {
     "name": "stdout",
     "output_type": "stream",
     "text": [
      "Downloading data from https://storage.googleapis.com/tensorflow/keras-applications/vgg16/vgg16_weights_tf_dim_ordering_tf_kernels_notop.h5\n",
      "58892288/58889256 [==============================] - 0s 0us/step\n",
      "58900480/58889256 [==============================] - 0s 0us/step\n"
     ]
    }
   ],
   "source": [
    "\n",
    "conv_base = VGG16(weights='imagenet',\n",
    "                  include_top=False,\n",
    "                  input_shape=(150, 150, 3))"
   ]
  },
  {
   "cell_type": "markdown",
   "metadata": {
    "id": "MOtLjYpSsMGV"
   },
   "source": [
    "Now, let's review the second technique we mentioned for doing feature extraction, which is much slower and more expensive, but which allows us to leverage data augmentation during training: extending the conv_base model and running it end-to-end on the inputs.\n",
    "\n",
    "Note that this technique is in fact so expensive that you should only attempt it if you have access to a GPU: it is absolutely intractable on CPU. If you cannot run your code on GPU, then the previous technique is the way to go.\n",
    "\n",
    "Because models behave just like layers, you can add a model (like our conv_base) to a Sequential model just like you would add a layer."
   ]
  },
  {
   "cell_type": "code",
   "execution_count": 14,
   "metadata": {
    "colab": {
     "base_uri": "https://localhost:8080/"
    },
    "id": "VfHLFqhHFTMi",
    "outputId": "85461d97-bf7c-45cd-fea9-6f8455bf2a6e"
   },
   "outputs": [
    {
     "name": "stdout",
     "output_type": "stream",
     "text": [
      "Model: \"vgg16\"\n",
      "_________________________________________________________________\n",
      " Layer (type)                Output Shape              Param #   \n",
      "=================================================================\n",
      " input_1 (InputLayer)        [(None, 150, 150, 3)]     0         \n",
      "                                                                 \n",
      " block1_conv1 (Conv2D)       (None, 150, 150, 64)      1792      \n",
      "                                                                 \n",
      " block1_conv2 (Conv2D)       (None, 150, 150, 64)      36928     \n",
      "                                                                 \n",
      " block1_pool (MaxPooling2D)  (None, 75, 75, 64)        0         \n",
      "                                                                 \n",
      " block2_conv1 (Conv2D)       (None, 75, 75, 128)       73856     \n",
      "                                                                 \n",
      " block2_conv2 (Conv2D)       (None, 75, 75, 128)       147584    \n",
      "                                                                 \n",
      " block2_pool (MaxPooling2D)  (None, 37, 37, 128)       0         \n",
      "                                                                 \n",
      " block3_conv1 (Conv2D)       (None, 37, 37, 256)       295168    \n",
      "                                                                 \n",
      " block3_conv2 (Conv2D)       (None, 37, 37, 256)       590080    \n",
      "                                                                 \n",
      " block3_conv3 (Conv2D)       (None, 37, 37, 256)       590080    \n",
      "                                                                 \n",
      " block3_pool (MaxPooling2D)  (None, 18, 18, 256)       0         \n",
      "                                                                 \n",
      " block4_conv1 (Conv2D)       (None, 18, 18, 512)       1180160   \n",
      "                                                                 \n",
      " block4_conv2 (Conv2D)       (None, 18, 18, 512)       2359808   \n",
      "                                                                 \n",
      " block4_conv3 (Conv2D)       (None, 18, 18, 512)       2359808   \n",
      "                                                                 \n",
      " block4_pool (MaxPooling2D)  (None, 9, 9, 512)         0         \n",
      "                                                                 \n",
      " block5_conv1 (Conv2D)       (None, 9, 9, 512)         2359808   \n",
      "                                                                 \n",
      " block5_conv2 (Conv2D)       (None, 9, 9, 512)         2359808   \n",
      "                                                                 \n",
      " block5_conv3 (Conv2D)       (None, 9, 9, 512)         2359808   \n",
      "                                                                 \n",
      " block5_pool (MaxPooling2D)  (None, 4, 4, 512)         0         \n",
      "                                                                 \n",
      "=================================================================\n",
      "Total params: 14,714,688\n",
      "Trainable params: 14,714,688\n",
      "Non-trainable params: 0\n",
      "_________________________________________________________________\n"
     ]
    }
   ],
   "source": [
    "conv_base.summary()"
   ]
  },
  {
   "cell_type": "code",
   "execution_count": 20,
   "metadata": {
    "id": "avVpvBfnsAXJ"
   },
   "outputs": [],
   "source": [
    "model = models.Sequential()\n",
    "model.add(conv_base)\n",
    "model.add(layers.Flatten())\n",
    "model.add(layers.Dropout(0.5))\n",
    "model.add(layers.Dense(64, kernel_regularizer='L2', activation='relu'))\n",
    "model.add(layers.Dense(1, activation='sigmoid'))\n"
   ]
  },
  {
   "cell_type": "code",
   "execution_count": 21,
   "metadata": {
    "colab": {
     "base_uri": "https://localhost:8080/"
    },
    "id": "LwUAaiTwlryX",
    "outputId": "ee4bb57c-cc89-4f89-bc64-760d30ed9acf"
   },
   "outputs": [
    {
     "name": "stdout",
     "output_type": "stream",
     "text": [
      "Model: \"sequential_2\"\n",
      "_________________________________________________________________\n",
      " Layer (type)                Output Shape              Param #   \n",
      "=================================================================\n",
      " vgg16 (Functional)          (None, 4, 4, 512)         14714688  \n",
      "                                                                 \n",
      " flatten_2 (Flatten)         (None, 8192)              0         \n",
      "                                                                 \n",
      " dropout (Dropout)           (None, 8192)              0         \n",
      "                                                                 \n",
      " dense_4 (Dense)             (None, 64)                524352    \n",
      "                                                                 \n",
      " dense_5 (Dense)             (None, 1)                 65        \n",
      "                                                                 \n",
      "=================================================================\n",
      "Total params: 15,239,105\n",
      "Trainable params: 524,417\n",
      "Non-trainable params: 14,714,688\n",
      "_________________________________________________________________\n"
     ]
    }
   ],
   "source": [
    "model.summary()"
   ]
  },
  {
   "cell_type": "code",
   "execution_count": 22,
   "metadata": {
    "colab": {
     "base_uri": "https://localhost:8080/"
    },
    "id": "J-Nizsp5lwuQ",
    "outputId": "d858f1be-428b-4d65-b416-b75c640f998f"
   },
   "outputs": [
    {
     "name": "stdout",
     "output_type": "stream",
     "text": [
      "This is the number of trainable layers before freezing the conv base: 4\n"
     ]
    }
   ],
   "source": [
    "print('This is the number of trainable layers '\n",
    "      'before freezing the conv base:', len(model.trainable_weights))"
   ]
  },
  {
   "cell_type": "markdown",
   "metadata": {
    "id": "bZMunXg6scct"
   },
   "source": [
    "Before we compile and train our model, a very important thing to do is to freeze the convolutional base. \"Freezing\" a layer or set of layers means preventing their weights from getting updated during training.**Note that in order for these changes to take effect, we must first compile the model.\n",
    "\n",
    "If you ever modify weight trainability after compilation, you should then re-compile the model, or these changes would be ignored.**"
   ]
  },
  {
   "cell_type": "code",
   "execution_count": 23,
   "metadata": {
    "id": "viY-D3qOlwwm"
   },
   "outputs": [],
   "source": [
    "# freeaing\n",
    "conv_base.trainable = False"
   ]
  },
  {
   "cell_type": "code",
   "execution_count": 24,
   "metadata": {
    "colab": {
     "base_uri": "https://localhost:8080/"
    },
    "id": "Ryo3Gib6lwzK",
    "outputId": "099511ad-3471-4dd2-be6d-b1116c8218b1"
   },
   "outputs": [
    {
     "name": "stdout",
     "output_type": "stream",
     "text": [
      "This is the number of trainable layers after freezing the conv base: 4\n"
     ]
    }
   ],
   "source": [
    "print('This is the number of trainable layers '\n",
    "      'after freezing the conv base:', len(model.trainable_weights))"
   ]
  },
  {
   "cell_type": "code",
   "execution_count": 25,
   "metadata": {
    "colab": {
     "base_uri": "https://localhost:8080/"
    },
    "id": "E5J2C_TQlw2r",
    "outputId": "5479211f-64dd-4042-9b63-d2e21b280d79"
   },
   "outputs": [
    {
     "name": "stdout",
     "output_type": "stream",
     "text": [
      "Model: \"sequential_2\"\n",
      "_________________________________________________________________\n",
      " Layer (type)                Output Shape              Param #   \n",
      "=================================================================\n",
      " vgg16 (Functional)          (None, 4, 4, 512)         14714688  \n",
      "                                                                 \n",
      " flatten_2 (Flatten)         (None, 8192)              0         \n",
      "                                                                 \n",
      " dropout (Dropout)           (None, 8192)              0         \n",
      "                                                                 \n",
      " dense_4 (Dense)             (None, 64)                524352    \n",
      "                                                                 \n",
      " dense_5 (Dense)             (None, 1)                 65        \n",
      "                                                                 \n",
      "=================================================================\n",
      "Total params: 15,239,105\n",
      "Trainable params: 524,417\n",
      "Non-trainable params: 14,714,688\n",
      "_________________________________________________________________\n"
     ]
    }
   ],
   "source": [
    "model.summary()"
   ]
  },
  {
   "cell_type": "markdown",
   "metadata": {
    "id": "-kedW8b3l-AI"
   },
   "source": [
    "With this setup, only the weights from the two Dense layers that we added will be trained. That's a total of weight tensors: per layer"
   ]
  },
  {
   "cell_type": "markdown",
   "metadata": {
    "id": "VRNHjSo71oRw"
   },
   "source": [
    "please take care of the parameter: process_input in ImageDataGenerator class. This one is important as it performs the necessary preprocessing needed for the image before giving it to the model you transfer from. Every pre-trained net typically provides the good pre-processing function."
   ]
  },
  {
   "cell_type": "code",
   "execution_count": 26,
   "metadata": {
    "colab": {
     "base_uri": "https://localhost:8080/"
    },
    "id": "-kk-Xq_YsrGa",
    "outputId": "02a8ad8c-7c25-4e74-a564-a613ea8a98a8"
   },
   "outputs": [
    {
     "name": "stdout",
     "output_type": "stream",
     "text": [
      "Found 19990 images belonging to 2 classes.\n",
      "Found 1780 images belonging to 2 classes.\n"
     ]
    }
   ],
   "source": [
    "from keras.applications.imagenet_utils import preprocess_input\n",
    "\n",
    "train_dir = '/content/drive/MyDrive/datasets/cats-vs-dogs/train'\n",
    "train_cats_dir = '/content/drive/MyDrive/datasets/cats-vs-dogs/train/cats (1)'\n",
    "train_dogs_dir = '/content/drive/MyDrive/datasets/cats-vs-dogs/train/dogs'\n",
    "aug_cats_dir = '/content/drive/MyDrive/datasets/augmented/cats'\n",
    "aug_dogs_dir = '/content/drive/MyDrive/datasets/augmented/dogs'\n",
    "augm_dir = '/content/drive/MyDrive/datasets/augmented'\n",
    "validation_dir = '/content/drive/MyDrive/datasets/cats-vs-dogs/valid'\n",
    "\n",
    "train_datagen = ImageDataGenerator(\n",
    "      rescale=1./255,\n",
    "      preprocessing_function=preprocess_input,\n",
    "      rotation_range=40, \n",
    "      width_shift_range=0.2,\n",
    "      height_shift_range=0.2,\n",
    "      shear_range=0.2,\n",
    "      zoom_range=0.2,\n",
    "      horizontal_flip=True,\n",
    "      fill_mode='nearest')\n",
    "\n",
    "train_generator = train_datagen.flow_from_directory(\n",
    "        # This is the target directory\n",
    "        augm_dir,\n",
    "        # All images will be resized to 150x150\n",
    "        target_size=(150, 150),\n",
    "        batch_size=20,\n",
    "        # Since we use binary_crossentropy loss, we need binary labels\n",
    "        class_mode='binary')\n",
    "\n",
    "\n",
    "test_datagen = ImageDataGenerator(preprocessing_function=preprocess_input)  #rescale=1./255) \n",
    "\n",
    "validation_generator = test_datagen.flow_from_directory(\n",
    "        validation_dir,\n",
    "        target_size=(150, 150),\n",
    "        batch_size=20,\n",
    "        class_mode='binary')"
   ]
  },
  {
   "cell_type": "code",
   "execution_count": 28,
   "metadata": {
    "id": "Y6G9YfkGsrL3"
   },
   "outputs": [],
   "source": [
    "model.compile(loss='binary_crossentropy',\n",
    "              optimizer='adam',\n",
    "              metrics=['acc'])"
   ]
  },
  {
   "cell_type": "code",
   "execution_count": null,
   "metadata": {
    "colab": {
     "base_uri": "https://localhost:8080/"
    },
    "id": "qmOApbFtsrQE",
    "outputId": "dc3ef09f-cc51-4d3e-9ccb-53bf6e9ed574"
   },
   "outputs": [
    {
     "name": "stderr",
     "output_type": "stream",
     "text": [
      "/usr/local/lib/python3.7/dist-packages/ipykernel_launcher.py:7: UserWarning: `Model.fit_generator` is deprecated and will be removed in a future version. Please use `Model.fit`, which supports generators.\n",
      "  import sys\n"
     ]
    },
    {
     "name": "stdout",
     "output_type": "stream",
     "text": [
      "Epoch 1/30\n"
     ]
    }
   ],
   "source": [
    "history = model.fit_generator(\n",
    "      train_generator,\n",
    "      steps_per_epoch=999,\n",
    "      epochs=30,\n",
    "      validation_data=validation_generator,\n",
    "      validation_steps=50,\n",
    "      verbose=2)"
   ]
  },
  {
   "cell_type": "code",
   "execution_count": null,
   "metadata": {
    "id": "5dQZG_0f2DTb"
   },
   "outputs": [],
   "source": [
    "acc = history.history['acc']\n",
    "val_acc = history.history['val_acc']\n",
    "loss = history.history['loss']\n",
    "val_loss = history.history['val_loss']\n",
    "\n",
    "epochs = range(len(acc))\n",
    "\n",
    "plt.plot(epochs, acc, 'bo', label='Training acc')\n",
    "plt.plot(epochs, val_acc, 'b', label='Validation acc')\n",
    "plt.title('Training and validation accuracy')\n",
    "plt.legend()\n",
    "\n",
    "plt.figure()\n",
    "\n",
    "plt.plot(epochs, loss, 'bo', label='Training loss')\n",
    "plt.plot(epochs, val_loss, 'b', label='Validation loss')\n",
    "plt.title('Training and validation loss')\n",
    "plt.legend()\n",
    "\n",
    "plt.show()"
   ]
  },
  {
   "cell_type": "code",
   "execution_count": null,
   "metadata": {
    "id": "YAZl7E4t2DV_"
   },
   "outputs": [],
   "source": [
    "model.save('gdrive/My Drive/cats_and_dogs_small_3.h5')"
   ]
  },
  {
   "cell_type": "code",
   "execution_count": null,
   "metadata": {
    "id": "CohcpKkG2DYg"
   },
   "outputs": [],
   "source": []
  },
  {
   "cell_type": "code",
   "execution_count": null,
   "metadata": {
    "id": "7EsIXwPP2Dar"
   },
   "outputs": [],
   "source": []
  },
  {
   "cell_type": "markdown",
   "metadata": {
    "id": "f7526uz43vx1"
   },
   "source": [
    "### Fine tuning\n",
    " Fine-tuning consists in unfreezing a few of the top layers of a frozen model"
   ]
  },
  {
   "cell_type": "markdown",
   "metadata": {
    "id": "Qm1fK43F41OQ"
   },
   "source": [
    "Thus the steps for fine-tuning a network are as follow:\n",
    "\n",
    "\n",
    "1.  Add your custom network on top of an already trained base network.\n",
    "\n",
    "1. Freeze the base network.\n",
    "3. Train the part you added.\n",
    "\n",
    "\n",
    "4. Unfreeze some layers in the base network.\n",
    "5. Jointly train both these layers and the part you added.\n",
    "\n",
    "\n",
    "* We have already completed the first 3 steps when doing\n",
    "\n",
    "\n",
    "\n"
   ]
  },
  {
   "cell_type": "code",
   "execution_count": null,
   "metadata": {
    "id": "LmoDTkcS2DdI"
   },
   "outputs": [],
   "source": [
    "conv_base.summary()\n"
   ]
  },
  {
   "cell_type": "markdown",
   "metadata": {
    "id": "lOa9Z48G5dZQ"
   },
   "source": [
    "We will fine-tune the last 3 convolutional layers, which means that all layers up until block4_pool should be frozen, and the layers block5_conv1, block5_conv2 and block5_conv3 should be trainable."
   ]
  },
  {
   "cell_type": "code",
   "execution_count": null,
   "metadata": {
    "id": "eA7KhMmwlw65"
   },
   "outputs": [],
   "source": [
    "conv_base.trainable = True\n",
    "\n",
    "set_trainable = False\n",
    "for layer in conv_base.layers:\n",
    "    if layer.name == 'block5_conv1':\n",
    "        set_trainable = True\n",
    "    if set_trainable:\n",
    "        layer.trainable = True\n",
    "    else:\n",
    "        layer.trainable = False"
   ]
  },
  {
   "cell_type": "markdown",
   "metadata": {
    "id": "Daeg764T6pFh"
   },
   "source": [
    "Now we can start fine-tuning our network. We will do this with the RMSprop optimizer, using a very low learning: rate. The reason for using a low learning rate is that we want to limit the magnitude of the modifications we make to the representations of the 3 layers that we are fine-tuning. Updates that are too large may harm these representations."
   ]
  },
  {
   "cell_type": "code",
   "execution_count": null,
   "metadata": {
    "id": "pJc5k5nQ5qnO"
   },
   "outputs": [],
   "source": [
    "model.compile(loss='binary_crossentropy',\n",
    "              optimizer=optimizers.RMSprop(lr=1e-5),\n",
    "              metrics=['acc'])\n",
    "\n",
    "history = model.fit_generator(\n",
    "      train_generator,\n",
    "      steps_per_epoch=100,\n",
    "      epochs=10,\n",
    "      validation_data=validation_generator,\n",
    "      validation_steps=50)"
   ]
  },
  {
   "cell_type": "code",
   "execution_count": null,
   "metadata": {
    "id": "zodAoY2T5qqF"
   },
   "outputs": [],
   "source": [
    "model.save('gdrive/My Drive/cats_and_dogs_small_4.h5')\n"
   ]
  },
  {
   "cell_type": "code",
   "execution_count": null,
   "metadata": {
    "id": "FWKuYJrn5qs3"
   },
   "outputs": [],
   "source": [
    "acc = history.history['acc']\n",
    "val_acc = history.history['val_acc']\n",
    "loss = history.history['loss']\n",
    "val_loss = history.history['val_loss']\n",
    "\n",
    "epochs = range(len(acc))\n",
    "\n",
    "plt.plot(epochs, acc, 'bo', label='Training acc')\n",
    "plt.plot(epochs, val_acc, 'b', label='Validation acc')\n",
    "plt.title('Training and validation accuracy')\n",
    "plt.legend()\n",
    "\n",
    "plt.figure()\n",
    "\n",
    "plt.plot(epochs, loss, 'bo', label='Training loss')\n",
    "plt.plot(epochs, val_loss, 'b', label='Validation loss')\n",
    "plt.title('Training and validation loss')\n",
    "plt.legend()\n",
    "\n",
    "plt.show()"
   ]
  },
  {
   "cell_type": "markdown",
   "metadata": {
    "id": "KBJdLmgn7QZZ"
   },
   "source": [
    "We can now finally evaluate this model on the test data:"
   ]
  },
  {
   "cell_type": "code",
   "execution_count": null,
   "metadata": {
    "id": "Jbc1FCkS5qww"
   },
   "outputs": [],
   "source": [
    "test_generator = test_datagen.flow_from_directory(\n",
    "        test_dir,\n",
    "        target_size=(150, 150),\n",
    "        batch_size=20,\n",
    "        class_mode='binary')\n",
    "\n",
    "test_loss, test_acc = model.evaluate_generator(test_generator, steps=50)\n",
    "print('test acc:', test_acc)"
   ]
  }
 ],
 "metadata": {
  "accelerator": "GPU",
  "colab": {
   "collapsed_sections": [
    "2oU3lJs8EOga",
    "RP3g2F__J2fX",
    "Hk4HqmkEIk-R",
    "xLlj81FpIuad"
   ],
   "name": " cats vs dogs kernel.ipynb",
   "provenance": []
  },
  "kernelspec": {
   "display_name": "Python 3",
   "language": "python",
   "name": "python3"
  },
  "language_info": {
   "codemirror_mode": {
    "name": "ipython",
    "version": 3
   },
   "file_extension": ".py",
   "mimetype": "text/x-python",
   "name": "python",
   "nbconvert_exporter": "python",
   "pygments_lexer": "ipython3",
   "version": "3.8.5"
  }
 },
 "nbformat": 4,
 "nbformat_minor": 1
}
